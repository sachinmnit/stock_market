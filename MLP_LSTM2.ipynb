{
 "cells": [
  {
   "cell_type": "code",
   "execution_count": 290,
   "metadata": {},
   "outputs": [],
   "source": [
    "import numpy as np\n",
    "import matplotlib.pyplot as plt\n",
    "from nsepy import get_history\n",
    "from sklearn.model_selection import train_test_split\n",
    "from datetime import date\n",
    "from datetime import datetime"
   ]
  },
  {
   "cell_type": "code",
   "execution_count": 291,
   "metadata": {},
   "outputs": [],
   "source": [
    "df = get_history(symbol= 'SBIN', \n",
    "                        start = date(2015,1,2), \n",
    "                        end = date(2019,5,16))\n",
    "df = df.reset_index()\n",
    "#len(df)"
   ]
  },
  {
   "cell_type": "code",
   "execution_count": 298,
   "metadata": {},
   "outputs": [
    {
     "data": {
      "text/plain": [
       "array([337.5])"
      ]
     },
     "execution_count": 298,
     "metadata": {},
     "output_type": "execute_result"
    }
   ],
   "source": [
    "prices = df['Close'].tolist()\n",
    "dates = df.index.tolist()\n",
    "dates = np.reshape(dates, (len(dates), 1))\n",
    "prices = np.reshape(prices, (len(prices), 1))\n",
    "max(prices)"
   ]
  },
  {
   "cell_type": "code",
   "execution_count": 299,
   "metadata": {},
   "outputs": [],
   "source": [
    "x_train, x_test, y_train, y_test = train_test_split(dates, prices, test_size=0.5)\n",
    "y_train = y_train/max(prices)\n",
    "y_test = y_test/max(prices)"
   ]
  },
  {
   "cell_type": "code",
   "execution_count": 294,
   "metadata": {},
   "outputs": [],
   "source": [
    "from keras import models\n",
    "from keras import layers\n",
    "import tensorflow as tf \n",
    "model = tf.keras.models.Sequential()\n",
    "\n",
    "model.add(tf.keras.layers.Dense(100, activation=tf.nn.relu))\n",
    "model.add(tf.keras.layers.Dense(100, activation=tf.nn.relu))\n",
    "model.add(tf.keras.layers.Dense(1, activation=tf.nn.relu))\n",
    "\n",
    "model.compile(optimizer=\"adam\", loss=\"mean_squared_error\")"
   ]
  },
  {
   "cell_type": "code",
   "execution_count": 295,
   "metadata": {},
   "outputs": [
    {
     "name": "stdout",
     "output_type": "stream",
     "text": [
      "Epoch 1/10\n",
      "540/540 [==============================] - 13s 24ms/sample - loss: 0.6255\n",
      "Epoch 2/10\n",
      "540/540 [==============================] - 0s 174us/sample - loss: 0.6255\n",
      "Epoch 3/10\n",
      "540/540 [==============================] - 0s 174us/sample - loss: 0.6255\n",
      "Epoch 4/10\n",
      "540/540 [==============================] - 0s 174us/sample - loss: 0.6255\n",
      "Epoch 5/10\n",
      "540/540 [==============================] - 0s 174us/sample - loss: 0.6255\n",
      "Epoch 6/10\n",
      "540/540 [==============================] - 0s 174us/sample - loss: 0.6255\n",
      "Epoch 7/10\n",
      "540/540 [==============================] - 0s 260us/sample - loss: 0.6255\n",
      "Epoch 8/10\n",
      "540/540 [==============================] - 0s 145us/sample - loss: 0.6255\n",
      "Epoch 9/10\n",
      "540/540 [==============================] - 0s 174us/sample - loss: 0.6255\n",
      "Epoch 10/10\n",
      "540/540 [==============================] - 0s 174us/sample - loss: 0.6255\n"
     ]
    },
    {
     "data": {
      "text/plain": [
       "<tensorflow.python.keras.callbacks.History at 0x22f141f84a8>"
      ]
     },
     "execution_count": 295,
     "metadata": {},
     "output_type": "execute_result"
    }
   ],
   "source": [
    "model.fit(x_train, y_train, epochs=10)"
   ]
  },
  {
   "cell_type": "code",
   "execution_count": 296,
   "metadata": {},
   "outputs": [
    {
     "name": "stdout",
     "output_type": "stream",
     "text": [
      "540/540 [==============================] - 4s 7ms/sample - loss: 0.6270\n"
     ]
    },
    {
     "data": {
      "text/plain": [
       "0.6270096469808508"
      ]
     },
     "execution_count": 296,
     "metadata": {},
     "output_type": "execute_result"
    }
   ],
   "source": [
    "model.evaluate(x_test, y_test)"
   ]
  },
  {
   "cell_type": "code",
   "execution_count": 297,
   "metadata": {},
   "outputs": [
    {
     "data": {
      "text/plain": [
       "[<matplotlib.lines.Line2D at 0x22f142257b8>]"
      ]
     },
     "execution_count": 297,
     "metadata": {},
     "output_type": "execute_result"
    },
    {
     "data": {
      "image/png": "[encoded data removed]",
      "text/plain": [
       "<Figure size 432x288 with 1 Axes>"
      ]
     },
     "metadata": {
      "needs_background": "light"
     },
     "output_type": "display_data"
    }
   ],
   "source": [
    "plt.scatter(x_test, y_test*max(prices), color='yellow', label= 'Actual Price')\n",
    "plt.plot(x_test, model.predict(x_test)*max(prices), color='blue', linewidth=.3, label = 'Predicted Price')"
   ]
  },
  {
   "cell_type": "code",
   "execution_count": 301,
   "metadata": {},
   "outputs": [],
   "source": [
    "model = tf.keras.Sequential()\n",
    "model.add(tf.keras.layers.LSTM(100, input_shape=(1, 1), return_sequences=True))\n",
    "model.add(tf.keras.layers.LSTM(100))\n",
    "model.add(tf.keras.layers.Dense(1, activation=tf.nn.relu))\n",
    "\n",
    "model.compile(optimizer=\"adam\", loss=\"mean_squared_error\")"
   ]
  },
  {
   "cell_type": "code",
   "execution_count": 287,
   "metadata": {},
   "outputs": [],
   "source": [
    "x_train = np.reshape(x_train, (len(x_train), 1, 1))\n",
    "x_test = np.reshape(x_test, (len(x_train), 1, 1))"
   ]
  },
  {
   "cell_type": "code",
   "execution_count": 288,
   "metadata": {},
   "outputs": [
    {
     "name": "stdout",
     "output_type": "stream",
     "text": [
      "Epoch 1/50\n",
      "540/540 [==============================] - 11s 21ms/sample - loss: 0.1538\n",
      "Epoch 2/50\n",
      "540/540 [==============================] - 0s 405us/sample - loss: 0.0251\n",
      "Epoch 3/50\n",
      "540/540 [==============================] - 0s 376us/sample - loss: 0.0136\n",
      "Epoch 4/50\n",
      "540/540 [==============================] - 0s 347us/sample - loss: 0.0124\n",
      "Epoch 5/50\n",
      "540/540 [==============================] - 0s 376us/sample - loss: 0.0118\n",
      "Epoch 6/50\n",
      "540/540 [==============================] - 0s 376us/sample - loss: 0.0113\n",
      "Epoch 7/50\n",
      "540/540 [==============================] - 0s 376us/sample - loss: 0.0110\n",
      "Epoch 8/50\n",
      "540/540 [==============================] - 0s 347us/sample - loss: 0.0108\n",
      "Epoch 9/50\n",
      "540/540 [==============================] - 0s 376us/sample - loss: 0.0107\n",
      "Epoch 10/50\n",
      "540/540 [==============================] - 0s 463us/sample - loss: 0.0101\n",
      "Epoch 11/50\n",
      "540/540 [==============================] - 0s 405us/sample - loss: 0.0099\n",
      "Epoch 12/50\n",
      "540/540 [==============================] - 0s 405us/sample - loss: 0.0098\n",
      "Epoch 13/50\n",
      "540/540 [==============================] - 0s 434us/sample - loss: 0.0095\n",
      "Epoch 14/50\n",
      "540/540 [==============================] - 0s 405us/sample - loss: 0.0091\n",
      "Epoch 15/50\n",
      "540/540 [==============================] - 0s 376us/sample - loss: 0.0088\n",
      "Epoch 16/50\n",
      "540/540 [==============================] - 0s 376us/sample - loss: 0.0084\n",
      "Epoch 17/50\n",
      "540/540 [==============================] - 0s 376us/sample - loss: 0.0081\n",
      "Epoch 18/50\n",
      "540/540 [==============================] - 0s 376us/sample - loss: 0.0078\n",
      "Epoch 19/50\n",
      "540/540 [==============================] - 0s 434us/sample - loss: 0.0074\n",
      "Epoch 20/50\n",
      "540/540 [==============================] - 0s 405us/sample - loss: 0.0072\n",
      "Epoch 21/50\n",
      "540/540 [==============================] - 0s 376us/sample - loss: 0.0070\n",
      "Epoch 22/50\n",
      "540/540 [==============================] - 0s 405us/sample - loss: 0.0070\n",
      "Epoch 23/50\n",
      "540/540 [==============================] - 0s 376us/sample - loss: 0.0069\n",
      "Epoch 24/50\n",
      "540/540 [==============================] - 0s 405us/sample - loss: 0.0065\n",
      "Epoch 25/50\n",
      "540/540 [==============================] - 0s 376us/sample - loss: 0.0061\n",
      "Epoch 26/50\n",
      "540/540 [==============================] - 0s 347us/sample - loss: 0.0060\n",
      "Epoch 27/50\n",
      "540/540 [==============================] - 0s 376us/sample - loss: 0.0057\n",
      "Epoch 28/50\n",
      "540/540 [==============================] - 0s 376us/sample - loss: 0.0053\n",
      "Epoch 29/50\n",
      "540/540 [==============================] - 0s 376us/sample - loss: 0.0051\n",
      "Epoch 30/50\n",
      "540/540 [==============================] - 0s 376us/sample - loss: 0.0049\n",
      "Epoch 31/50\n",
      "540/540 [==============================] - 0s 376us/sample - loss: 0.0054\n",
      "Epoch 32/50\n",
      "540/540 [==============================] - 0s 376us/sample - loss: 0.0051\n",
      "Epoch 33/50\n",
      "540/540 [==============================] - 0s 434us/sample - loss: 0.0046\n",
      "Epoch 34/50\n",
      "540/540 [==============================] - 0s 463us/sample - loss: 0.0049\n",
      "Epoch 35/50\n",
      "540/540 [==============================] - 0s 376us/sample - loss: 0.0044\n",
      "Epoch 36/50\n",
      "540/540 [==============================] - 0s 405us/sample - loss: 0.0044\n",
      "Epoch 37/50\n",
      "540/540 [==============================] - 0s 405us/sample - loss: 0.0047\n",
      "Epoch 38/50\n",
      "540/540 [==============================] - 0s 376us/sample - loss: 0.0052\n",
      "Epoch 39/50\n",
      "540/540 [==============================] - 0s 376us/sample - loss: 0.0044\n",
      "Epoch 40/50\n",
      "540/540 [==============================] - 0s 376us/sample - loss: 0.0042\n",
      "Epoch 41/50\n",
      "540/540 [==============================] - 0s 376us/sample - loss: 0.0042\n",
      "Epoch 42/50\n",
      "540/540 [==============================] - 0s 405us/sample - loss: 0.0038\n",
      "Epoch 43/50\n",
      "540/540 [==============================] - 0s 376us/sample - loss: 0.0038\n",
      "Epoch 44/50\n",
      "540/540 [==============================] - 0s 376us/sample - loss: 0.0038\n",
      "Epoch 45/50\n",
      "540/540 [==============================] - 0s 376us/sample - loss: 0.0039\n",
      "Epoch 46/50\n",
      "540/540 [==============================] - 0s 347us/sample - loss: 0.0037\n",
      "Epoch 47/50\n",
      "540/540 [==============================] - 0s 463us/sample - loss: 0.0040\n",
      "Epoch 48/50\n",
      "540/540 [==============================] - 0s 376us/sample - loss: 0.0044\n",
      "Epoch 49/50\n",
      "540/540 [==============================] - 0s 405us/sample - loss: 0.0043\n",
      "Epoch 50/50\n",
      "540/540 [==============================] - 0s 376us/sample - loss: 0.0042\n",
      "540/540 [==============================] - 4s 7ms/sample - loss: 0.0035\n"
     ]
    },
    {
     "data": {
      "text/plain": [
       "0.0034785225659746816"
      ]
     },
     "execution_count": 288,
     "metadata": {},
     "output_type": "execute_result"
    }
   ],
   "source": [
    "model.fit(x_train, y_train, epochs=50)\n",
    "model.evaluate(x_test, y_test)"
   ]
  },
  {
   "cell_type": "code",
   "execution_count": 289,
   "metadata": {},
   "outputs": [
    {
     "data": {
      "text/plain": [
       "<matplotlib.collections.PathCollection at 0x22f0a09ac18>"
      ]
     },
     "execution_count": 289,
     "metadata": {},
     "output_type": "execute_result"
    },
    {
     "data": {
      "image/png": "[encoded data removed]",
      "text/plain": [
       "<Figure size 432x288 with 1 Axes>"
      ]
     },
     "metadata": {
      "needs_background": "light"
     },
     "output_type": "display_data"
    }
   ],
   "source": [
    "y = model.predict(x_test)\n",
    "x_test = x_test.reshape(len(x_test), 1)\n",
    "y = y.reshape(len(y), 1)\n",
    "plt.scatter(x_test, y_test*max(prices), color='yellow', label= 'Actual Price')\n",
    "plt.scatter(x_test, y*max(prices), color='blue', label = 'Predicted Price')"
   ]
  },
  {
   "cell_type": "code",
   "execution_count": 216,
   "metadata": {},
   "outputs": [
    {
     "data": {
      "text/plain": [
       "(540, 1)"
      ]
     },
     "execution_count": 216,
     "metadata": {},
     "output_type": "execute_result"
    }
   ],
   "source": [
    "x_test.shape"
   ]
  },
  {
   "cell_type": "code",
   "execution_count": 217,
   "metadata": {},
   "outputs": [
    {
     "data": {
      "text/plain": [
       "(540, 1)"
      ]
     },
     "execution_count": 217,
     "metadata": {},
     "output_type": "execute_result"
    }
   ],
   "source": [
    "y_test.shape"
   ]
  },
  {
   "cell_type": "code",
   "execution_count": null,
   "metadata": {},
   "outputs": [],
   "source": []
  }
 ],
 "metadata": {
  "kernelspec": {
   "display_name": "Python 3",
   "language": "python",
   "name": "python3"
  },
  "language_info": {
   "codemirror_mode": {
    "name": "ipython",
    "version": 3
   },
   "file_extension": ".py",
   "mimetype": "text/x-python",
   "name": "python",
   "nbconvert_exporter": "python",
   "pygments_lexer": "ipython3",
   "version": "3.7.0"
  }
 },
 "nbformat": 4,
 "nbformat_minor": 2
}
